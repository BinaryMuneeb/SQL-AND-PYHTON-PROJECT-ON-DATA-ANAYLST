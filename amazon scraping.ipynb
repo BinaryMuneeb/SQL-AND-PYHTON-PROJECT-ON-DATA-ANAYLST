{
 "cells": [
  {
   "cell_type": "code",
   "execution_count": 2,
   "id": "a60e4fa3-8abf-4bc6-b808-b8b1f3140240",
   "metadata": {},
   "outputs": [],
   "source": [
    "from bs4 import BeautifulSoup\n",
    "import requests\n",
    "import time\n",
    "import datetime\n",
    "\n",
    "import smtplib"
   ]
  },
  {
   "cell_type": "code",
   "execution_count": 3,
   "id": "9633b1a6-5ffb-4e00-a716-7e5bd4ad76c9",
   "metadata": {},
   "outputs": [],
   "source": [
    "url='https://www.amazon.com/dp/B07FNW9FGJ?_encoding=UTF8&customId=B0752XJYNL&customizationToken=MC_Assembly_1%23B0752XJYNL&th=1'\n",
    "headers = {\"User-Agent\": \"Mozilla/5.0 (Windows NT 10.0; Win64; x64) AppleWebKit/537.36 (KHTML, like Gecko) Chrome/78.0.3904.108 Safari/537.36\", \"Accept-Encoding\":\"gzip, deflate\", \"Accept\":\"text/html,application/xhtml+xml,application/xml;q=0.9,*/*;q=0.8\", \"DNT\":\"1\",\"Connection\":\"close\", \"Upgrade-Insecure-Requests\":\"1\"}"
   ]
  },
  {
   "cell_type": "code",
   "execution_count": 4,
   "id": "4600db29-5dac-47eb-a419-412b12a1d526",
   "metadata": {},
   "outputs": [],
   "source": [
    "\n",
    "page = requests.get(url, headers=headers)\n",
    "\n",
    "soup1 = BeautifulSoup(page.content, \"html.parser\")\n",
    "\n",
    "# .= BeautifulSoup(page.content, \"html.parser\")\n",
    "\n",
    "# soup1 = BeautifulSoup(page.content, \"html.parser\")\n",
    "\n",
    "soup2 = BeautifulSoup(soup1.prettify(), \"html.parser\")\n",
    "\n",
    "title = soup2.find(id='productTitle').get_text()\n",
    "\n",
    "\n",
    "\n",
    "url = \"https://www.amazon.com/Funny-Data-Systems-Business-Analyst/dp/B07FNW9FGJ/ref=sr_1_3?dchild=1&keywords=data%2Banalyst%2Btshirt&qid=1626655184&sr=8-3&customId=B0752XJYNL&th=1&customizationToken=MC_Assembly_1%23B0752XJYNL\"\n",
    "\n",
    "# Send a GET request to the URL\n",
    "page = requests.get(url)\n",
    "\n",
    "# Check if the request was successful\n",
    "if page.status_code == 200:\n",
    "    # Parse the HTML content\n",
    "    soup1 = BeautifulSoup(page.content, \"html.parser\")\n",
    "    \n",
    "    # Make it pretty for easier reading and parsing\n",
    "    soup2 = BeautifulSoup(soup1.prettify(), \"html.parser\")\n",
    "    \n",
    "    # Find the title of the product\n",
    "    title = soup2.find(id='productTitle').get_text()\n",
    "    \n",
    "    # Find the span with class \"a-price-whole\" to get the whole number part of the price\n",
    "    price_whole = soup2.find('span', class_='a-price-whole').text.strip().replace('\\n', '')\n",
    "    \n",
    "    # Find the span with class \"a-price-fraction\" to get the fraction part of the price\n",
    "    price_fraction = soup2.find('span', class_='a-price-fraction').text.strip().replace('\\n', '')\n",
    "    \n",
    "    # Combine the whole and fraction parts to get the complete price\n",
    "    price = f\"${price_whole}.{price_fraction}\"\n",
    "    \n",
    "    # Print the title and price\n",
    "    \n",
    "else:\n",
    "    print(\"Failed to retrieve the webpage\")\n",
    "\n",
    "\n"
   ]
  },
  {
   "cell_type": "code",
   "execution_count": 5,
   "id": "240ee814-c6be-4d00-9d77-d387e9919548",
   "metadata": {},
   "outputs": [
    {
     "data": {
      "text/plain": [
       "'16                                                                   ..99'"
      ]
     },
     "execution_count": 5,
     "metadata": {},
     "output_type": "execute_result"
    }
   ],
   "source": [
    "price=price.strip()[1:]\n",
    "price"
   ]
  },
  {
   "cell_type": "code",
   "execution_count": 6,
   "id": "a126407e-ba4e-4b26-9eb6-eaa49011038a",
   "metadata": {},
   "outputs": [],
   "source": [
    "title=title.strip()"
   ]
  },
  {
   "cell_type": "code",
   "execution_count": 7,
   "id": "1c2598ef-2e1e-4d02-8045-c30b871ea3fd",
   "metadata": {},
   "outputs": [
    {
     "data": {
      "text/plain": [
       "'16                                                                   ..99'"
      ]
     },
     "execution_count": 7,
     "metadata": {},
     "output_type": "execute_result"
    }
   ],
   "source": [
    "price"
   ]
  },
  {
   "cell_type": "code",
   "execution_count": 13,
   "id": "817aa0d0-456c-4940-82a4-d7a5b5a2a149",
   "metadata": {},
   "outputs": [
    {
     "name": "stdout",
     "output_type": "stream",
     "text": [
      "2024-06-08\n"
     ]
    }
   ],
   "source": [
    "import datetime\n",
    "\n",
    "today = datetime.date.today()\n",
    "\n",
    "print(today)"
   ]
  },
  {
   "cell_type": "code",
   "execution_count": 51,
   "id": "4e6bd86d-990a-487c-a149-1ee7bca0d92e",
   "metadata": {},
   "outputs": [],
   "source": [
    "import csv \n",
    "\n",
    "header = ['Title', 'Price','Date' ]\n",
    "data = [title, price,today]\n",
    "\n",
    "\n",
    "with open('AmazonWebScraperDataset.csv', 'w', newline='', encoding='UTF8') as f:\n",
    "    writer = csv.writer(f)\n",
    "    writer.writerow(header)\n",
    "    writer.writerow(data)"
   ]
  },
  {
   "cell_type": "code",
   "execution_count": null,
   "id": "ba3f13a9-7f33-4559-8fb6-0f908815e84f",
   "metadata": {},
   "outputs": [],
   "source": []
  },
  {
   "cell_type": "code",
   "execution_count": 56,
   "id": "3a9ec0b6-67f7-4733-b312-217b8f07a032",
   "metadata": {},
   "outputs": [
    {
     "data": {
      "text/html": [
       "<div>\n",
       "<style scoped>\n",
       "    .dataframe tbody tr th:only-of-type {\n",
       "        vertical-align: middle;\n",
       "    }\n",
       "\n",
       "    .dataframe tbody tr th {\n",
       "        vertical-align: top;\n",
       "    }\n",
       "\n",
       "    .dataframe thead th {\n",
       "        text-align: right;\n",
       "    }\n",
       "</style>\n",
       "<table border=\"1\" class=\"dataframe\">\n",
       "  <thead>\n",
       "    <tr style=\"text-align: right;\">\n",
       "      <th></th>\n",
       "      <th>Title</th>\n",
       "      <th>Price</th>\n",
       "      <th>Date</th>\n",
       "    </tr>\n",
       "  </thead>\n",
       "  <tbody>\n",
       "    <tr>\n",
       "      <th>0</th>\n",
       "      <td>Funny Got Data MIS Data Systems Business Analy...</td>\n",
       "      <td>16                                            ...</td>\n",
       "      <td>2024-06-08</td>\n",
       "    </tr>\n",
       "    <tr>\n",
       "      <th>1</th>\n",
       "      <td>Funny Got Data MIS Data Systems Business Analy...</td>\n",
       "      <td>16                                            ...</td>\n",
       "      <td>2024-06-08</td>\n",
       "    </tr>\n",
       "    <tr>\n",
       "      <th>2</th>\n",
       "      <td>Funny Got Data MIS Data Systems Business Analy...</td>\n",
       "      <td>16                                            ...</td>\n",
       "      <td>2024-06-08</td>\n",
       "    </tr>\n",
       "    <tr>\n",
       "      <th>3</th>\n",
       "      <td>Funny Got Data MIS Data Systems Business Analy...</td>\n",
       "      <td>16                                            ...</td>\n",
       "      <td>2024-06-08</td>\n",
       "    </tr>\n",
       "  </tbody>\n",
       "</table>\n",
       "</div>"
      ],
      "text/plain": [
       "                                               Title  \\\n",
       "0  Funny Got Data MIS Data Systems Business Analy...   \n",
       "1  Funny Got Data MIS Data Systems Business Analy...   \n",
       "2  Funny Got Data MIS Data Systems Business Analy...   \n",
       "3  Funny Got Data MIS Data Systems Business Analy...   \n",
       "\n",
       "                                               Price        Date  \n",
       "0  16                                            ...  2024-06-08  \n",
       "1  16                                            ...  2024-06-08  \n",
       "2  16                                            ...  2024-06-08  \n",
       "3  16                                            ...  2024-06-08  "
      ]
     },
     "execution_count": 56,
     "metadata": {},
     "output_type": "execute_result"
    }
   ],
   "source": [
    "import pandas as pd\n",
    "df=pd.read_csv(r\"C:\\Users\\a2z\\Desktop\\data anyalyst from job\\python\\AmazonWebScraperDataset.csv\")\n",
    "df"
   ]
  },
  {
   "cell_type": "code",
   "execution_count": null,
   "id": "28474d1c-cc21-485c-beaa-65e0a4fa34f2",
   "metadata": {},
   "outputs": [],
   "source": []
  },
  {
   "cell_type": "code",
   "execution_count": 55,
   "id": "51c2ebed-9bc9-4915-82b3-7130b6f92672",
   "metadata": {},
   "outputs": [],
   "source": [
    "# APPENDING DATA\n",
    "with open('AmazonWebScraperDataset.csv', 'a+', newline='', encoding='UTF8') as f:\n",
    "    writer = csv.writer(f)\n",
    "    writer.writerow(data)"
   ]
  },
  {
   "cell_type": "code",
   "execution_count": 57,
   "id": "2a3e94b9-2a43-4a73-9c11-ca41a14fff59",
   "metadata": {},
   "outputs": [],
   "source": [
    "def cheque_price():\n",
    "    url='https://www.amazon.com/dp/B07FNW9FGJ?_encoding=UTF8&customId=B0752XJYNL&customizationToken=MC_Assembly_1%23B0752XJYNL&th=1'\n",
    "    headers = {\"User-Agent\": \"Mozilla/5.0 (Windows NT 10.0; Win64; x64) AppleWebKit/537.36 (KHTML, like Gecko) Chrome/78.0.3904.108 Safari/537.36\", \"Accept-Encoding\":\"gzip, deflate\", \"Accept\":\"text/html,application/xhtml+xml,application/xml;q=0.9,*/*;q=0.8\", \"DNT\":\"1\",\"Connection\":\"close\", \"Upgrade-Insecure-Requests\":\"1\"}\n",
    "    if page.status_code == 200:\n",
    "        # Parse the HTML content\n",
    "        soup1 = BeautifulSoup(page.content, \"html.parser\")\n",
    "        \n",
    "        # Make it pretty for easier reading and parsing\n",
    "        soup2 = BeautifulSoup(soup1.prettify(), \"html.parser\")\n",
    "        \n",
    "        # Find the title of the product\n",
    "        title = soup2.find(id='productTitle').get_text()\n",
    "        \n",
    "        # Find the span with class \"a-price-whole\" to get the whole number part of the price\n",
    "        price_whole = soup2.find('span', class_='a-price-whole').text.strip().replace('\\n', '')\n",
    "        \n",
    "        # Find the span with class \"a-price-fraction\" to get the fraction part of the price\n",
    "        price_fraction = soup2.find('span', class_='a-price-fraction').text.strip().replace('\\n', '')\n",
    "        \n",
    "        # Combine the whole and fraction parts to get the complete price\n",
    "        price = f\"${price_whole}.{price_fraction}\"\n",
    "    price=price.strip()[1:]\n",
    "    title=title.strip()\n",
    "    import datetime\n",
    "\n",
    "    today = datetime.date.today()\n",
    "\n",
    "    print(today)\n",
    "    with open('AmazonWebScraperDataset.csv', 'a+', newline='', encoding='UTF8') as f:\n",
    "        writer = csv.writer(f)\n",
    "        writer.writerow(data)\n",
    "    if(price<200):\n",
    "         send_mail():\n",
    "            \n",
    "\n",
    "\n"
   ]
  },
  {
   "cell_type": "code",
   "execution_count": 59,
   "id": "8bfdafba-6aa7-412f-a879-60d218771287",
   "metadata": {},
   "outputs": [
    {
     "name": "stdout",
     "output_type": "stream",
     "text": [
      "2024-06-08\n",
      "2024-06-08\n",
      "2024-06-08\n",
      "2024-06-08\n",
      "2024-06-08\n",
      "2024-06-08\n",
      "2024-06-08\n",
      "2024-06-08\n"
     ]
    },
    {
     "ename": "KeyboardInterrupt",
     "evalue": "",
     "output_type": "error",
     "traceback": [
      "\u001b[1;31m---------------------------------------------------------------------------\u001b[0m",
      "\u001b[1;31mKeyboardInterrupt\u001b[0m                         Traceback (most recent call last)",
      "Cell \u001b[1;32mIn[59], line 3\u001b[0m\n\u001b[0;32m      1\u001b[0m \u001b[38;5;28;01mwhile\u001b[39;00m(\u001b[38;5;28;01mTrue\u001b[39;00m):\n\u001b[0;32m      2\u001b[0m     cheque_price()\n\u001b[1;32m----> 3\u001b[0m     time\u001b[38;5;241m.\u001b[39msleep(\u001b[38;5;241m5\u001b[39m)\n",
      "\u001b[1;31mKeyboardInterrupt\u001b[0m: "
     ]
    }
   ],
   "source": [
    "while(True):\n",
    "    cheque_price()\n",
    "    time.sleep(5)"
   ]
  },
  {
   "cell_type": "code",
   "execution_count": 60,
   "id": "04a34d04-be8d-4ff3-b2ba-db7069c340b4",
   "metadata": {},
   "outputs": [
    {
     "data": {
      "text/html": [
       "<div>\n",
       "<style scoped>\n",
       "    .dataframe tbody tr th:only-of-type {\n",
       "        vertical-align: middle;\n",
       "    }\n",
       "\n",
       "    .dataframe tbody tr th {\n",
       "        vertical-align: top;\n",
       "    }\n",
       "\n",
       "    .dataframe thead th {\n",
       "        text-align: right;\n",
       "    }\n",
       "</style>\n",
       "<table border=\"1\" class=\"dataframe\">\n",
       "  <thead>\n",
       "    <tr style=\"text-align: right;\">\n",
       "      <th></th>\n",
       "      <th>Title</th>\n",
       "      <th>Price</th>\n",
       "      <th>Date</th>\n",
       "    </tr>\n",
       "  </thead>\n",
       "  <tbody>\n",
       "    <tr>\n",
       "      <th>0</th>\n",
       "      <td>Funny Got Data MIS Data Systems Business Analy...</td>\n",
       "      <td>16                                            ...</td>\n",
       "      <td>2024-06-08</td>\n",
       "    </tr>\n",
       "    <tr>\n",
       "      <th>1</th>\n",
       "      <td>Funny Got Data MIS Data Systems Business Analy...</td>\n",
       "      <td>16                                            ...</td>\n",
       "      <td>2024-06-08</td>\n",
       "    </tr>\n",
       "    <tr>\n",
       "      <th>2</th>\n",
       "      <td>Funny Got Data MIS Data Systems Business Analy...</td>\n",
       "      <td>16                                            ...</td>\n",
       "      <td>2024-06-08</td>\n",
       "    </tr>\n",
       "    <tr>\n",
       "      <th>3</th>\n",
       "      <td>Funny Got Data MIS Data Systems Business Analy...</td>\n",
       "      <td>16                                            ...</td>\n",
       "      <td>2024-06-08</td>\n",
       "    </tr>\n",
       "    <tr>\n",
       "      <th>4</th>\n",
       "      <td>Funny Got Data MIS Data Systems Business Analy...</td>\n",
       "      <td>16                                            ...</td>\n",
       "      <td>2024-06-08</td>\n",
       "    </tr>\n",
       "    <tr>\n",
       "      <th>5</th>\n",
       "      <td>Funny Got Data MIS Data Systems Business Analy...</td>\n",
       "      <td>16                                            ...</td>\n",
       "      <td>2024-06-08</td>\n",
       "    </tr>\n",
       "    <tr>\n",
       "      <th>6</th>\n",
       "      <td>Funny Got Data MIS Data Systems Business Analy...</td>\n",
       "      <td>16                                            ...</td>\n",
       "      <td>2024-06-08</td>\n",
       "    </tr>\n",
       "    <tr>\n",
       "      <th>7</th>\n",
       "      <td>Funny Got Data MIS Data Systems Business Analy...</td>\n",
       "      <td>16                                            ...</td>\n",
       "      <td>2024-06-08</td>\n",
       "    </tr>\n",
       "    <tr>\n",
       "      <th>8</th>\n",
       "      <td>Funny Got Data MIS Data Systems Business Analy...</td>\n",
       "      <td>16                                            ...</td>\n",
       "      <td>2024-06-08</td>\n",
       "    </tr>\n",
       "    <tr>\n",
       "      <th>9</th>\n",
       "      <td>Funny Got Data MIS Data Systems Business Analy...</td>\n",
       "      <td>16                                            ...</td>\n",
       "      <td>2024-06-08</td>\n",
       "    </tr>\n",
       "    <tr>\n",
       "      <th>10</th>\n",
       "      <td>Funny Got Data MIS Data Systems Business Analy...</td>\n",
       "      <td>16                                            ...</td>\n",
       "      <td>2024-06-08</td>\n",
       "    </tr>\n",
       "    <tr>\n",
       "      <th>11</th>\n",
       "      <td>Funny Got Data MIS Data Systems Business Analy...</td>\n",
       "      <td>16                                            ...</td>\n",
       "      <td>2024-06-08</td>\n",
       "    </tr>\n",
       "  </tbody>\n",
       "</table>\n",
       "</div>"
      ],
      "text/plain": [
       "                                                Title  \\\n",
       "0   Funny Got Data MIS Data Systems Business Analy...   \n",
       "1   Funny Got Data MIS Data Systems Business Analy...   \n",
       "2   Funny Got Data MIS Data Systems Business Analy...   \n",
       "3   Funny Got Data MIS Data Systems Business Analy...   \n",
       "4   Funny Got Data MIS Data Systems Business Analy...   \n",
       "5   Funny Got Data MIS Data Systems Business Analy...   \n",
       "6   Funny Got Data MIS Data Systems Business Analy...   \n",
       "7   Funny Got Data MIS Data Systems Business Analy...   \n",
       "8   Funny Got Data MIS Data Systems Business Analy...   \n",
       "9   Funny Got Data MIS Data Systems Business Analy...   \n",
       "10  Funny Got Data MIS Data Systems Business Analy...   \n",
       "11  Funny Got Data MIS Data Systems Business Analy...   \n",
       "\n",
       "                                                Price        Date  \n",
       "0   16                                            ...  2024-06-08  \n",
       "1   16                                            ...  2024-06-08  \n",
       "2   16                                            ...  2024-06-08  \n",
       "3   16                                            ...  2024-06-08  \n",
       "4   16                                            ...  2024-06-08  \n",
       "5   16                                            ...  2024-06-08  \n",
       "6   16                                            ...  2024-06-08  \n",
       "7   16                                            ...  2024-06-08  \n",
       "8   16                                            ...  2024-06-08  \n",
       "9   16                                            ...  2024-06-08  \n",
       "10  16                                            ...  2024-06-08  \n",
       "11  16                                            ...  2024-06-08  "
      ]
     },
     "execution_count": 60,
     "metadata": {},
     "output_type": "execute_result"
    }
   ],
   "source": [
    "import pandas as pd\n",
    "df=pd.read_csv(r\"C:\\Users\\a2z\\Desktop\\data anyalyst from job\\python\\AmazonWebScraperDataset.csv\")\n",
    "df"
   ]
  },
  {
   "cell_type": "code",
   "execution_count": 64,
   "id": "d0c34b02-20e8-4195-baaf-d2303d82fdf5",
   "metadata": {},
   "outputs": [],
   "source": [
    "# import smtplib\n",
    "# from email.mime.multipart import MIMEMultipart\n",
    "# from email.mime.text import MIMEText\n",
    "\n",
    "# def send_email(subject, body, to_email, from_email, from_email_password):\n",
    "#     # Set up the server\n",
    "#     smtp_server = \"smtp.gmail.com\"\n",
    "#     smtp_port = 587\n",
    "\n",
    "#     # Create the email\n",
    "#     msg = MIMEMultipart()\n",
    "#     msg['From'] = from_email\n",
    "#     msg['To'] = to_email\n",
    "#     msg['Subject'] = subject\n",
    "\n",
    "#     # Attach the email body\n",
    "#     msg.attach(MIMEText(body, 'plain'))\n",
    "\n",
    "#     # Connect to the server\n",
    "#     server = smtplib.SMTP(smtp_server, smtp_port)\n",
    "#     server.starttls()  # Secure the connection\n",
    "#     server.login(from_email, from_email_password)\n",
    "\n",
    "#     # Send the email\n",
    "#     server.send_message(msg)\n",
    "#     server.quit()\n",
    "\n",
    "# # Example usage\n",
    "# subject = \"Test Email\"\n",
    "# body = \"This is a test email sent from Python.\"\n",
    "# to_email = \"muneebumer605@gmail.com\"\n",
    "# from_email = \"muneebumer85@gmail.com\"\n",
    "# from_email_password = \"Muneeb#031630\"\n",
    "\n",
    "# send_email(subject, body, to_email, from_email, from_email_password)\n"
   ]
  },
  {
   "cell_type": "code",
   "execution_count": null,
   "id": "8b23da5e-164e-4982-b421-38aa435a0759",
   "metadata": {},
   "outputs": [],
   "source": []
  }
 ],
 "metadata": {
  "kernelspec": {
   "display_name": "Python 3 (ipykernel)",
   "language": "python",
   "name": "python3"
  },
  "language_info": {
   "codemirror_mode": {
    "name": "ipython",
    "version": 3
   },
   "file_extension": ".py",
   "mimetype": "text/x-python",
   "name": "python",
   "nbconvert_exporter": "python",
   "pygments_lexer": "ipython3",
   "version": "3.11.4"
  }
 },
 "nbformat": 4,
 "nbformat_minor": 5
}
